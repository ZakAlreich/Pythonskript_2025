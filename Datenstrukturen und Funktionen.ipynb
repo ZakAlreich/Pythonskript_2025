{
 "cells": [
  {
   "cell_type": "code",
   "execution_count": 4,
   "metadata": {},
   "outputs": [],
   "source": [
    "# Datenstrukturen und Funktionen in Python\n",
    "# ========================================\n",
    "# \n",
    "# Diese Jupyter Notebook gibt eine Übersicht über grundlegende Datenstrukturen\n",
    "# und Funktionen in Python mit praktischen Beispielen.\n"
   ]
  },
  {
   "cell_type": "code",
   "execution_count": 5,
   "metadata": {},
   "outputs": [
    {
     "name": "stdout",
     "output_type": "stream",
     "text": [
      "Meine Liste: [1, 2, 3, 4, 5]\n",
      "Erstes Element: 1\n",
      "Letztes Element: 5\n",
      "Liste nach Änderung: [10, 2, 3, 4, 5]\n"
     ]
    }
   ],
   "source": [
    "# Listen\n",
    "# ------\n",
    "# Listen sind eine der grundlegendsten Datenstrukturen in Python.\n",
    "# Sie sind geordnete, veränderbare Sammlungen von Elementen.\n",
    "\n",
    "# Eine Liste erstellen\n",
    "meine_liste = [1, 2, 3, 4, 5]\n",
    "print(f\"Meine Liste: {meine_liste}\")\n",
    "\n",
    "# Auf Elemente zugreifen\n",
    "erstes_element = meine_liste[0]\n",
    "letztes_element = meine_liste[-1]\n",
    "print(f\"Erstes Element: {erstes_element}\")\n",
    "print(f\"Letztes Element: {letztes_element}\")\n",
    "\n",
    "# Listenelemente ändern\n",
    "meine_liste[0] = 10\n",
    "print(f\"Liste nach Änderung: {meine_liste}\")\n"
   ]
  },
  {
   "cell_type": "code",
   "execution_count": 6,
   "metadata": {},
   "outputs": [
    {
     "name": "stdout",
     "output_type": "stream",
     "text": [
      "Nach append(6): [3, 1, 4, 1, 5, 9, 2, 6]\n",
      "Nach insert(1, 7): [3, 7, 1, 4, 1, 5, 9, 2, 6]\n",
      "Nach remove(1): [3, 7, 4, 1, 5, 9, 2, 6]\n",
      "Entferntes Element mit pop(): 6\n",
      "Liste nach pop(): [3, 7, 4, 1, 5, 9, 2]\n",
      "Sortierte Liste: [1, 2, 3, 4, 5, 7, 9]\n",
      "Umgekehrte Liste: [9, 7, 5, 4, 3, 2, 1]\n"
     ]
    }
   ],
   "source": [
    "# Nützliche Listen-Methoden\n",
    "# -------------------------\n",
    "\n",
    "meine_liste = [3, 1, 4, 1, 5, 9, 2]\n",
    "\n",
    "# Elemente hinzufügen\n",
    "meine_liste.append(6)  # Fügt ein Element am Ende hinzu\n",
    "print(f\"Nach append(6): {meine_liste}\")\n",
    "\n",
    "meine_liste.insert(1, 7)  # Fügt ein Element an Position 1 ein\n",
    "print(f\"Nach insert(1, 7): {meine_liste}\")\n",
    "\n",
    "# Elemente entfernen\n",
    "meine_liste.remove(1)  # Entfernt das erste Vorkommen von 1\n",
    "print(f\"Nach remove(1): {meine_liste}\")\n",
    "\n",
    "popped = meine_liste.pop()  # Entfernt und gibt das letzte Element zurück\n",
    "print(f\"Entferntes Element mit pop(): {popped}\")\n",
    "print(f\"Liste nach pop(): {meine_liste}\")\n",
    "\n",
    "# Sortieren\n",
    "meine_liste.sort()\n",
    "print(f\"Sortierte Liste: {meine_liste}\")\n",
    "\n",
    "meine_liste.reverse()\n",
    "print(f\"Umgekehrte Liste: {meine_liste}\")\n"
   ]
  },
  {
   "cell_type": "code",
   "execution_count": 7,
   "metadata": {},
   "outputs": [
    {
     "name": "stdout",
     "output_type": "stream",
     "text": [
      "Quadrate mit Schleife: [1, 4, 9, 16, 25]\n",
      "Quadrate mit List Comprehension: [1, 4, 9, 16, 25]\n",
      "Gerade Zahlen: [2, 4, 6, 8, 10]\n",
      "Matrix:\n",
      "[0, 1, 2]\n",
      "[1, 2, 3]\n",
      "[2, 3, 4]\n"
     ]
    }
   ],
   "source": [
    "# Listen-Verständnisse (List Comprehensions)\n",
    "# -----------------------------------------\n",
    "# Eine kompakte Möglichkeit, neue Listen zu erstellen\n",
    "\n",
    "# Traditioneller Weg\n",
    "quadrate = []\n",
    "for i in range(1, 6):\n",
    "    quadrate.append(i**2)\n",
    "print(f\"Quadrate mit Schleife: {quadrate}\")\n",
    "\n",
    "# Mit List Comprehension\n",
    "quadrate_lc = [i**2 for i in range(1, 6)]\n",
    "print(f\"Quadrate mit List Comprehension: {quadrate_lc}\")\n",
    "\n",
    "# Mit Bedingung\n",
    "gerade_zahlen = [i for i in range(1, 11) if i % 2 == 0]\n",
    "print(f\"Gerade Zahlen: {gerade_zahlen}\")\n",
    "\n",
    "# Verschachtelte List Comprehension\n",
    "matrix = [[i + j for j in range(3)] for i in range(3)]\n",
    "print(\"Matrix:\")\n",
    "for row in matrix:\n",
    "    print(row)\n"
   ]
  },
  {
   "cell_type": "code",
   "execution_count": 8,
   "metadata": {},
   "outputs": [
    {
     "name": "stdout",
     "output_type": "stream",
     "text": [
      "Mein Tupel: (1, 2, 3, 4, 5)\n",
      "Zweites Element: 2\n",
      "Einelementiges Tupel: (42,)\n",
      "x = 10, y = 20, z = 30\n"
     ]
    }
   ],
   "source": [
    "# Tupel\n",
    "# -----\n",
    "# Tupel sind ähnlich wie Listen, aber unveränderbar (immutable)\n",
    "\n",
    "# Ein Tupel erstellen\n",
    "mein_tupel = (1, 2, 3, 4, 5)\n",
    "print(f\"Mein Tupel: {mein_tupel}\")\n",
    "\n",
    "# Zugriff auf Elemente, ähnlich wie bei Listen\n",
    "print(f\"Zweites Element: {mein_tupel[1]}\")\n",
    "\n",
    "# Tupel können nicht geändert werden\n",
    "# mein_tupel[0] = 10  # Dies würde einen Fehler verursachen\n",
    "\n",
    "# Vorteile von Tupeln:\n",
    "# - Schneller als Listen\n",
    "# - Können als Schlüssel in Dictionaries verwendet werden\n",
    "# - Schützen Daten vor versehentlicher Änderung\n",
    "\n",
    "# Einelementiges Tupel benötigt einen nachgestellten Komma\n",
    "einzel_tupel = (42,)\n",
    "print(f\"Einelementiges Tupel: {einzel_tupel}\")\n",
    "\n",
    "# Tuple unpacking\n",
    "x, y, z = (10, 20, 30)\n",
    "print(f\"x = {x}, y = {y}, z = {z}\")\n"
   ]
  },
  {
   "cell_type": "code",
   "execution_count": 9,
   "metadata": {},
   "outputs": [
    {
     "name": "stdout",
     "output_type": "stream",
     "text": [
      "Person: {'name': 'Max Mustermann', 'alter': 30, 'stadt': 'Berlin', 'hobbys': ['Lesen', 'Programmieren', 'Wandern']}\n",
      "Name: Max Mustermann\n",
      "Beruf: None\n",
      "Beruf mit Standardwert: Nicht angegeben\n",
      "Aktualisierte Person: {'name': 'Max Mustermann', 'alter': 31, 'stadt': 'Berlin', 'hobbys': ['Lesen', 'Programmieren', 'Wandern'], 'beruf': 'Entwickler'}\n"
     ]
    }
   ],
   "source": [
    "# Dictionaries\n",
    "# ------------\n",
    "# Dictionaries speichern Schlüssel-Wert-Paare\n",
    "\n",
    "# Ein Dictionary erstellen\n",
    "person = {\n",
    "    \"name\": \"Max Mustermann\",\n",
    "    \"alter\": 30,\n",
    "    \"stadt\": \"Berlin\",\n",
    "    \"hobbys\": [\"Lesen\", \"Programmieren\", \"Wandern\"]\n",
    "}\n",
    "print(f\"Person: {person}\")\n",
    "\n",
    "# Auf Werte zugreifen\n",
    "name = person[\"name\"]\n",
    "print(f\"Name: {name}\")\n",
    "\n",
    "# Alternative mit .get() (gibt None zurück, wenn Schlüssel nicht existiert)\n",
    "beruf = person.get(\"beruf\")\n",
    "print(f\"Beruf: {beruf}\")\n",
    "beruf_default = person.get(\"beruf\", \"Nicht angegeben\")\n",
    "print(f\"Beruf mit Standardwert: {beruf_default}\")\n",
    "\n",
    "# Werte ändern oder hinzufügen\n",
    "person[\"alter\"] = 31\n",
    "person[\"beruf\"] = \"Entwickler\"\n",
    "print(f\"Aktualisierte Person: {person}\")\n"
   ]
  },
  {
   "cell_type": "code",
   "execution_count": 10,
   "metadata": {},
   "outputs": [
    {
     "name": "stdout",
     "output_type": "stream",
     "text": [
      "Schlüssel: ['name', 'alter', 'stadt', 'hobbys', 'beruf']\n",
      "Werte: ['Max Mustermann', 31, 'Berlin', ['Lesen', 'Programmieren', 'Wandern'], 'Entwickler']\n",
      "Einträge: [('name', 'Max Mustermann'), ('alter', 31), ('stadt', 'Berlin'), ('hobbys', ['Lesen', 'Programmieren', 'Wandern']), ('beruf', 'Entwickler')]\n",
      "\n",
      "Person Details:\n",
      "name: Max Mustermann\n",
      "alter: 31\n",
      "stadt: Berlin\n",
      "hobbys: ['Lesen', 'Programmieren', 'Wandern']\n",
      "beruf: Entwickler\n",
      "\n",
      "Person nach Löschen von 'hobbys': {'name': 'Max Mustermann', 'alter': 31, 'stadt': 'Berlin', 'beruf': 'Entwickler'}\n",
      "\n",
      "Quadrat-Dictionary: {1: 1, 2: 4, 3: 9, 4: 16, 5: 25}\n"
     ]
    }
   ],
   "source": [
    "# Dictionary-Methoden\n",
    "# -------------------\n",
    "\n",
    "# Schlüssel, Werte und Einträge abrufen\n",
    "schluessel = person.keys()\n",
    "werte = person.values()\n",
    "eintraege = person.items()\n",
    "\n",
    "print(f\"Schlüssel: {list(schluessel)}\")\n",
    "print(f\"Werte: {list(werte)}\")\n",
    "print(f\"Einträge: {list(eintraege)}\")\n",
    "\n",
    "# Schlüssel-Wert-Paare durchlaufen\n",
    "print(\"\\nPerson Details:\")\n",
    "for key, value in person.items():\n",
    "    print(f\"{key}: {value}\")\n",
    "\n",
    "# Ein Element entfernen\n",
    "del person[\"hobbys\"]\n",
    "print(f\"\\nPerson nach Löschen von 'hobbys': {person}\")\n",
    "\n",
    "# Dictionary-Verständnisse (Dict Comprehensions)\n",
    "quadrat_dict = {i: i**2 for i in range(1, 6)}\n",
    "print(f\"\\nQuadrat-Dictionary: {quadrat_dict}\")\n"
   ]
  },
  {
   "cell_type": "code",
   "execution_count": 11,
   "metadata": {},
   "outputs": [
    {
     "name": "stdout",
     "output_type": "stream",
     "text": [
      "Mein Set: {1, 2, 3, 4, 5}\n",
      "Set mit Duplikaten eingegeben: {1, 2, 3, 4, 5}\n",
      "Nach add(6): {1, 2, 3, 4, 5, 6}\n",
      "Nach remove(3): {1, 2, 4, 5, 6}\n",
      "Nach discard(10): {1, 2, 4, 5, 6}\n"
     ]
    }
   ],
   "source": [
    "# Sets\n",
    "# ----\n",
    "# Sets sind ungeordnete Sammlungen einzigartiger Elemente\n",
    "\n",
    "# Ein Set erstellen\n",
    "mein_set = {1, 2, 3, 4, 5}\n",
    "print(f\"Mein Set: {mein_set}\")\n",
    "\n",
    "# Duplikate werden ignoriert\n",
    "set_mit_duplikaten = {1, 2, 2, 3, 3, 4, 5, 5}\n",
    "print(f\"Set mit Duplikaten eingegeben: {set_mit_duplikaten}\")\n",
    "\n",
    "# Elemente hinzufügen und entfernen\n",
    "mein_set.add(6)\n",
    "print(f\"Nach add(6): {mein_set}\")\n",
    "\n",
    "mein_set.remove(3)  # Wirft einen Fehler, wenn das Element nicht existiert\n",
    "print(f\"Nach remove(3): {mein_set}\")\n",
    "\n",
    "mein_set.discard(10)  # Entfernt ein Element, wenn es existiert (kein Fehler, wenn nicht)\n",
    "print(f\"Nach discard(10): {mein_set}\")\n"
   ]
  },
  {
   "cell_type": "code",
   "execution_count": 12,
   "metadata": {},
   "outputs": [
    {
     "name": "stdout",
     "output_type": "stream",
     "text": [
      "Vereinigung: {1, 2, 3, 4, 5, 6, 7, 8}\n",
      "Schnittmenge: {4, 5}\n",
      "Differenz A - B: {1, 2, 3}\n",
      "Symmetrische Differenz: {1, 2, 3, 6, 7, 8}\n",
      "Ist (1, 2) eine Teilmenge von {1, 2, 3, 4, 5}? True\n"
     ]
    }
   ],
   "source": [
    "# Set-Operationen\n",
    "# --------------\n",
    "\n",
    "set_a = {1, 2, 3, 4, 5}\n",
    "set_b = {4, 5, 6, 7, 8}\n",
    "\n",
    "# Vereinigung\n",
    "vereinigung = set_a | set_b  # Alternativ: set_a.union(set_b)\n",
    "print(f\"Vereinigung: {vereinigung}\")\n",
    "\n",
    "# Schnittmenge\n",
    "schnittmenge = set_a & set_b  # Alternativ: set_a.intersection(set_b)\n",
    "print(f\"Schnittmenge: {schnittmenge}\")\n",
    "\n",
    "# Differenz\n",
    "differenz_a_b = set_a - set_b  # Alternativ: set_a.difference(set_b)\n",
    "print(f\"Differenz A - B: {differenz_a_b}\")\n",
    "\n",
    "# Symmetrische Differenz\n",
    "sym_differenz = set_a ^ set_b  # Alternativ: set_a.symmetric_difference(set_b)\n",
    "print(f\"Symmetrische Differenz: {sym_differenz}\")\n",
    "\n",
    "# Teilmenge und Obermenge prüfen\n",
    "subset = {1, 2}.issubset(set_a)\n",
    "print(f\"Ist {1, 2} eine Teilmenge von {set_a}? {subset}\")\n"
   ]
  },
  {
   "cell_type": "code",
   "execution_count": 13,
   "metadata": {},
   "outputs": [
    {
     "name": "stdout",
     "output_type": "stream",
     "text": [
      "Hallo, Max!\n",
      "Hallo, Herr Müller!\n",
      "Hallo, Frau Schmidt!\n"
     ]
    }
   ],
   "source": [
    "# Funktionen - Grundlagen\n",
    "# ----------------------\n",
    "# Funktionen sind wiederverwendbare Codeblöcke\n",
    "\n",
    "# Eine einfache Funktion definieren\n",
    "def begruessung(name):\n",
    "    \"\"\"\n",
    "    Gibt eine Begrüßungsnachricht aus.\n",
    "    \n",
    "    Args:\n",
    "        name: Der Name der zu begrüßenden Person\n",
    "    \"\"\"\n",
    "    return f\"Hallo, {name}!\"\n",
    "\n",
    "# Funktion aufrufen\n",
    "nachricht = begruessung(\"Max\")\n",
    "print(nachricht)\n",
    "\n",
    "# Funktion mit Standardparameter\n",
    "def begruessung_mit_titel(name, titel=\"Herr\"):\n",
    "    return f\"Hallo, {titel} {name}!\"\n",
    "\n",
    "print(begruessung_mit_titel(\"Müller\"))\n",
    "print(begruessung_mit_titel(\"Schmidt\", \"Frau\"))\n"
   ]
  },
  {
   "cell_type": "code",
   "execution_count": 14,
   "metadata": {},
   "outputs": [
    {
     "name": "stdout",
     "output_type": "stream",
     "text": [
      "Summe von 1, 2, 3: 6\n",
      "Summe von 10, 20: 30\n",
      "\n",
      "Person 1:\n",
      "name: Anna\n",
      "alter: 28\n",
      "stadt: München\n",
      "\n",
      "Person 2:\n",
      "name: Thomas\n",
      "beruf: Ingenieur\n",
      "hobbys: ['Sport', 'Musik']\n"
     ]
    }
   ],
   "source": [
    "# Funktionen mit variablen Argumenten\n",
    "# ----------------------------------\n",
    "\n",
    "# *args: Variable Anzahl von Positionsargumenten\n",
    "def summe(*zahlen):\n",
    "    \"\"\"Berechnet die Summe aller übergebenen Zahlen\"\"\"\n",
    "    ergebnis = 0\n",
    "    for zahl in zahlen:\n",
    "        ergebnis += zahl\n",
    "    return ergebnis\n",
    "\n",
    "print(f\"Summe von 1, 2, 3: {summe(1, 2, 3)}\")\n",
    "print(f\"Summe von 10, 20: {summe(10, 20)}\")\n",
    "\n",
    "# **kwargs: Variable Anzahl von Schlüsselwortargumenten\n",
    "def person_info(**info):\n",
    "    \"\"\"Gibt Informationen über eine Person aus\"\"\"\n",
    "    for key, value in info.items():\n",
    "        print(f\"{key}: {value}\")\n",
    "\n",
    "print(\"\\nPerson 1:\")\n",
    "person_info(name=\"Anna\", alter=28, stadt=\"München\")\n",
    "\n",
    "print(\"\\nPerson 2:\")\n",
    "person_info(name=\"Thomas\", beruf=\"Ingenieur\", hobbys=[\"Sport\", \"Musik\"])\n"
   ]
  },
  {
   "cell_type": "code",
   "execution_count": 15,
   "metadata": {},
   "outputs": [
    {
     "name": "stdout",
     "output_type": "stream",
     "text": [
      "Quadrat von 5 (normale Funktion): 25\n",
      "Quadrat von 5 (Lambda): 25\n",
      "Quadrate mit map: [9, 1, 16, 1, 25, 81, 4]\n",
      "Gerade Zahlen mit filter: [4, 2]\n",
      "\n",
      "Personen nach Alter sortiert:\n",
      "Anna: 25 Jahre\n",
      "Max: 30 Jahre\n",
      "Lisa: 35 Jahre\n"
     ]
    }
   ],
   "source": [
    "# Lambda-Funktionen\n",
    "# ----------------\n",
    "# Kleine anonyme Funktionen, definiert mit dem Schlüsselwort lambda\n",
    "\n",
    "# Normale Funktion\n",
    "def quadrat(x):\n",
    "    return x**2\n",
    "\n",
    "# Äquivalente Lambda-Funktion\n",
    "quadrat_lambda = lambda x: x**2\n",
    "\n",
    "print(f\"Quadrat von 5 (normale Funktion): {quadrat(5)}\")\n",
    "print(f\"Quadrat von 5 (Lambda): {quadrat_lambda(5)}\")\n",
    "\n",
    "# Lambda-Funktionen werden oft mit höheren Funktionen wie map, filter und sorted verwendet\n",
    "zahlen = [3, 1, 4, 1, 5, 9, 2]\n",
    "\n",
    "# Mit map: Wendet eine Funktion auf jedes Element einer Sequenz an\n",
    "quadrate = list(map(lambda x: x**2, zahlen))\n",
    "print(f\"Quadrate mit map: {quadrate}\")\n",
    "\n",
    "# Mit filter: Filtert Elemente basierend auf einer Bedingung\n",
    "gerade = list(filter(lambda x: x % 2 == 0, zahlen))\n",
    "print(f\"Gerade Zahlen mit filter: {gerade}\")\n",
    "\n",
    "# Mit sorted: Sortiert eine Sequenz\n",
    "personen = [\n",
    "    {\"name\": \"Max\", \"alter\": 30},\n",
    "    {\"name\": \"Anna\", \"alter\": 25},\n",
    "    {\"name\": \"Lisa\", \"alter\": 35}\n",
    "]\n",
    "\n",
    "sortiert_nach_alter = sorted(personen, key=lambda p: p[\"alter\"])\n",
    "print(\"\\nPersonen nach Alter sortiert:\")\n",
    "for p in sortiert_nach_alter:\n",
    "    print(f\"{p['name']}: {p['alter']} Jahre\")\n"
   ]
  },
  {
   "cell_type": "code",
   "execution_count": 16,
   "metadata": {},
   "outputs": [
    {
     "name": "stdout",
     "output_type": "stream",
     "text": [
      "5! = 120\n",
      "\n",
      "Die ersten 10 Fibonacci-Zahlen:\n",
      "fibonacci(0) = 0\n",
      "fibonacci(1) = 1\n",
      "fibonacci(2) = 1\n",
      "fibonacci(3) = 2\n",
      "fibonacci(4) = 3\n",
      "fibonacci(5) = 5\n",
      "fibonacci(6) = 8\n",
      "fibonacci(7) = 13\n",
      "fibonacci(8) = 21\n",
      "fibonacci(9) = 34\n"
     ]
    }
   ],
   "source": [
    "# Rekursive Funktionen\n",
    "# -------------------\n",
    "# Funktionen, die sich selbst aufrufen\n",
    "\n",
    "# Fakultät berechnen\n",
    "def fakultaet(n):\n",
    "    \"\"\"Berechnet die Fakultät einer Zahl rekursiv\"\"\"\n",
    "    if n <= 1:\n",
    "        return 1\n",
    "    else:\n",
    "        return n * fakultaet(n-1)\n",
    "\n",
    "print(f\"5! = {fakultaet(5)}\")  # 5! = 5 * 4 * 3 * 2 * 1 = 120\n",
    "\n",
    "# Fibonacci-Zahlen\n",
    "def fibonacci(n):\n",
    "    \"\"\"Berechnet die n-te Fibonacci-Zahl rekursiv\"\"\"\n",
    "    if n <= 0:\n",
    "        return 0\n",
    "    elif n == 1:\n",
    "        return 1\n",
    "    else:\n",
    "        return fibonacci(n-1) + fibonacci(n-2)\n",
    "\n",
    "print(\"\\nDie ersten 10 Fibonacci-Zahlen:\")\n",
    "for i in range(10):\n",
    "    print(f\"fibonacci({i}) = {fibonacci(i)}\")\n"
   ]
  },
  {
   "cell_type": "code",
   "execution_count": 17,
   "metadata": {},
   "outputs": [
    {
     "name": "stdout",
     "output_type": "stream",
     "text": [
      "5 + 3 = 8\n",
      "5 * 3 = 15\n",
      "5 - 3 = 2\n"
     ]
    }
   ],
   "source": [
    "# Höhere Funktionen\n",
    "# ----------------\n",
    "# Funktionen, die andere Funktionen als Argumente annehmen oder zurückgeben\n",
    "\n",
    "def operation_anwenden(func, x, y):\n",
    "    \"\"\"Wendet eine übergebene Funktion auf zwei Argumente an\"\"\"\n",
    "    return func(x, y)\n",
    "\n",
    "# Verschiedene Operationen definieren\n",
    "def addieren(x, y):\n",
    "    return x + y\n",
    "\n",
    "def multiplizieren(x, y):\n",
    "    return x * y\n",
    "\n",
    "# Die höhere Funktion verwenden\n",
    "ergebnis1 = operation_anwenden(addieren, 5, 3)\n",
    "ergebnis2 = operation_anwenden(multiplizieren, 5, 3)\n",
    "\n",
    "print(f\"5 + 3 = {ergebnis1}\")\n",
    "print(f\"5 * 3 = {ergebnis2}\")\n",
    "\n",
    "# Mit Lambda-Funktionen\n",
    "ergebnis3 = operation_anwenden(lambda x, y: x - y, 5, 3)\n",
    "print(f\"5 - 3 = {ergebnis3}\")\n"
   ]
  },
  {
   "cell_type": "code",
   "execution_count": 18,
   "metadata": {},
   "outputs": [
    {
     "name": "stdout",
     "output_type": "stream",
     "text": [
      "5² = 25\n",
      "5³ = 125\n"
     ]
    }
   ],
   "source": [
    "# Funktionen als Rückgabewerte\n",
    "# ---------------------------\n",
    "\n",
    "def potenz_funktion(n):\n",
    "    \"\"\"Gibt eine Funktion zurück, die Zahlen zur n-ten Potenz erhebt\"\"\"\n",
    "    def potenz(x):\n",
    "        return x ** n\n",
    "    return potenz\n",
    "\n",
    "# Funktionen erstellen\n",
    "quadrieren = potenz_funktion(2)\n",
    "kubieren = potenz_funktion(3)\n",
    "\n",
    "# Funktionen verwenden\n",
    "print(f\"5² = {quadrieren(5)}\")\n",
    "print(f\"5³ = {kubieren(5)}\")\n"
   ]
  },
  {
   "cell_type": "code",
   "execution_count": 19,
   "metadata": {},
   "outputs": [
    {
     "name": "stdout",
     "output_type": "stream",
     "text": [
      "Erster Aufruf: 1\n",
      "Zweiter Aufruf: 2\n",
      "Dritter Aufruf: 3\n",
      "Erster Aufruf des zweiten Zählers: 1\n"
     ]
    }
   ],
   "source": [
    "# Closures\n",
    "# --------\n",
    "# Eine Closure ist eine Funktion, die den Zustand des äußeren Gültigkeitsbereichs \"einfängt\"\n",
    "\n",
    "def counter():\n",
    "    \"\"\"Erstellt einen Zähler, der bei jedem Aufruf inkrementiert wird\"\"\"\n",
    "    count = 0\n",
    "    \n",
    "    def increment():\n",
    "        nonlocal count  # Bezieht sich auf die Variable im umgebenden Gültigkeitsbereich\n",
    "        count += 1\n",
    "        return count\n",
    "    \n",
    "    return increment\n",
    "\n",
    "# Zähler erstellen\n",
    "mein_zaehler = counter()\n",
    "\n",
    "print(f\"Erster Aufruf: {mein_zaehler()}\")\n",
    "print(f\"Zweiter Aufruf: {mein_zaehler()}\")\n",
    "print(f\"Dritter Aufruf: {mein_zaehler()}\")\n",
    "\n",
    "# Ein weiterer Zähler ist unabhängig\n",
    "zweiter_zaehler = counter()\n",
    "print(f\"Erster Aufruf des zweiten Zählers: {zweiter_zaehler()}\")\n"
   ]
  },
  {
   "cell_type": "code",
   "execution_count": 20,
   "metadata": {},
   "outputs": [
    {
     "name": "stdout",
     "output_type": "stream",
     "text": [
      "Ausführungszeit von langsame_funktion: 1.000902 Sekunden\n",
      "Fertig nach 1 Sekunden\n"
     ]
    }
   ],
   "source": [
    "# Dekoratoren\n",
    "# ----------\n",
    "# Dekoratoren sind eine spezielle Art von Funktionen, die andere Funktionen modifizieren\n",
    "\n",
    "def mein_dekorator(func):\n",
    "    \"\"\"Ein einfacher Dekorator, der die Ausführungszeit einer Funktion misst\"\"\"\n",
    "    def wrapper(*args, **kwargs):\n",
    "        import time\n",
    "        start_zeit = time.time()\n",
    "        ergebnis = func(*args, **kwargs)\n",
    "        end_zeit = time.time()\n",
    "        print(f\"Ausführungszeit von {func.__name__}: {end_zeit - start_zeit:.6f} Sekunden\")\n",
    "        return ergebnis\n",
    "    return wrapper\n",
    "\n",
    "# Dekorator anwenden\n",
    "@mein_dekorator\n",
    "def langsame_funktion(n):\n",
    "    \"\"\"Eine absichtlich langsame Funktion für Demo-Zwecke\"\"\"\n",
    "    import time\n",
    "    time.sleep(n)  # Wartet n Sekunden\n",
    "    return f\"Fertig nach {n} Sekunden\"\n",
    "\n",
    "# Funktion aufrufen\n",
    "print(langsame_funktion(1))\n"
   ]
  },
  {
   "cell_type": "code",
   "execution_count": 21,
   "metadata": {},
   "outputs": [],
   "source": [
    "# Praktisches Beispiel - Ein einfaches Datenanalyse-Tool\n",
    "# ----------------------------------------------------\n",
    "# Kombination von Datenstrukturen und Funktionen für eine reale Anwendung\n",
    "\n",
    "import random\n",
    "\n",
    "# Beispieldaten generieren\n",
    "def daten_generieren(anzahl=100):\n",
    "    \"\"\"Generiert zufällige Verkaufsdaten für Beispielzwecke\"\"\"\n",
    "    produkte = [\"Laptop\", \"Smartphone\", \"Tablet\", \"Kopfhörer\", \"Monitor\"]\n",
    "    regionen = [\"Nord\", \"Süd\", \"Ost\", \"West\"]\n",
    "    \n",
    "    verkaufsdaten = []\n",
    "    \n",
    "    for _ in range(anzahl):\n",
    "        verkauf = {\n",
    "            \"produkt\": random.choice(produkte),\n",
    "            \"region\": random.choice(regionen),\n",
    "            \"menge\": random.randint(1, 10),\n",
    "            \"preis\": round(random.uniform(100, 1000), 2)\n",
    "        }\n",
    "        verkauf[\"umsatz\"] = verkauf[\"menge\"] * verkauf[\"preis\"]\n",
    "        verkaufsdaten.append(verkauf)\n",
    "    \n",
    "    return verkaufsdaten\n",
    "\n",
    "# Daten analysieren\n",
    "def nach_region_gruppieren(daten):\n",
    "    \"\"\"Gruppiert Verkaufsdaten nach Region\"\"\"\n",
    "    regionen = {}\n",
    "    \n",
    "    for verkauf in daten:\n",
    "        region = verkauf[\"region\"]\n",
    "        if region not in regionen:\n",
    "            regionen[region] = []\n",
    "        regionen[region].append(verkauf)\n",
    "    \n",
    "    return regionen\n",
    "\n",
    "def umsatz_pro_region(gruppierte_daten):\n",
    "    \"\"\"Berechnet den Gesamtumsatz pro Region\"\"\"\n",
    "    ergebnis = {}\n",
    "    \n",
    "    for region, verkäufe in gruppierte_daten.items():\n",
    "        gesamtumsatz = sum(verkauf[\"umsatz\"] for verkauf in verkäufe)\n",
    "        ergebnis[region] = round(gesamtumsatz, 2)\n",
    "    \n",
    "    return ergebnis\n",
    "\n",
    "def top_produkte(daten, anzahl=3):\n",
    "    \"\"\"Findet die Top-Produkte nach Umsatz\"\"\"\n",
    "    produkt_umsatz = {}\n",
    "    \n",
    "    for verkauf in daten:\n",
    "        produkt = verkauf[\"produkt\"]\n",
    "        if produkt not in produkt_umsatz:\n",
    "            produkt_umsatz[produkt] = 0\n",
    "        produkt_umsatz[produkt] += verkauf[\"umsatz\"]\n",
    "    \n",
    "    # Sortierte Liste von (Produkt, Umsatz) Tupeln\n",
    "    sortiert = sorted(produkt_umsatz.items(), key=lambda x: x[1], reverse=True)\n",
    "    \n",
    "    return sortiert[:anzahl]\n"
   ]
  },
  {
   "cell_type": "code",
   "execution_count": 22,
   "metadata": {},
   "outputs": [
    {
     "name": "stdout",
     "output_type": "stream",
     "text": [
      "Beispiel-Verkaufsdatensatz:\n",
      "{'produkt': 'Tablet', 'region': 'Nord', 'menge': 4, 'preis': 513.61, 'umsatz': 2054.44}\n",
      "\n",
      "Umsatz pro Region:\n",
      "Nord: 109430.32 €\n",
      "Süd: 157215.54 €\n",
      "Ost: 156918.17 €\n",
      "West: 151347.4 €\n",
      "\n",
      "Top 3 Produkte nach Umsatz:\n",
      "1. Smartphone: 148706.35 €\n",
      "2. Tablet: 116020.78 €\n",
      "3. Monitor: 108849.35 €\n"
     ]
    }
   ],
   "source": [
    "# Datenanalyse-Tool anwenden\n",
    "# -------------------------\n",
    "\n",
    "# Daten generieren\n",
    "verkaufsdaten = daten_generieren(200)\n",
    "\n",
    "# Ersten Eintrag anzeigen\n",
    "print(\"Beispiel-Verkaufsdatensatz:\")\n",
    "print(verkaufsdaten[0])\n",
    "\n",
    "# Nach Region gruppieren\n",
    "gruppiert = nach_region_gruppieren(verkaufsdaten)\n",
    "\n",
    "# Umsatz pro Region berechnen\n",
    "umsaetze = umsatz_pro_region(gruppiert)\n",
    "print(\"\\nUmsatz pro Region:\")\n",
    "for region, umsatz in umsaetze.items():\n",
    "    print(f\"{region}: {umsatz} €\")\n",
    "\n",
    "# Top-Produkte finden\n",
    "top = top_produkte(verkaufsdaten)\n",
    "print(\"\\nTop 3 Produkte nach Umsatz:\")\n",
    "for i, (produkt, umsatz) in enumerate(top, 1):\n",
    "    print(f\"{i}. {produkt}: {round(umsatz, 2)} €\")\n"
   ]
  },
  {
   "cell_type": "code",
   "execution_count": 23,
   "metadata": {},
   "outputs": [
    {
     "name": "stdout",
     "output_type": "stream",
     "text": [
      "\n",
      "Anzahl der Verkäufe pro Produkt:\n",
      "Smartphone: 49\n",
      "Laptop: 33\n",
      "Monitor: 40\n",
      "Kopfhörer: 37\n",
      "Tablet: 41\n",
      "\n",
      "Durchschnittspreis pro Produkt:\n",
      "Smartphone: 521.84 €\n",
      "Laptop: 528.59 €\n",
      "Monitor: 533.06 €\n",
      "Kopfhörer: 561.76 €\n",
      "Tablet: 487.64 €\n"
     ]
    }
   ],
   "source": [
    "# List, Dict und Set Comprehensions kombinieren\n",
    "# -------------------------------------------\n",
    "\n",
    "# Anzahl der Verkäufe pro Produkt mit Dictionary Comprehension\n",
    "anzahl_pro_produkt = {\n",
    "    produkt: sum(1 for verkauf in verkaufsdaten if verkauf[\"produkt\"] == produkt)\n",
    "    for produkt in set(verkauf[\"produkt\"] for verkauf in verkaufsdaten)\n",
    "}\n",
    "\n",
    "print(\"\\nAnzahl der Verkäufe pro Produkt:\")\n",
    "for produkt, anzahl in anzahl_pro_produkt.items():\n",
    "    print(f\"{produkt}: {anzahl}\")\n",
    "\n",
    "# Durchschnittspreis pro Produkt\n",
    "durchschnittspreis = {\n",
    "    produkt: round(\n",
    "        sum(verkauf[\"preis\"] for verkauf in verkaufsdaten if verkauf[\"produkt\"] == produkt) /\n",
    "        anzahl_pro_produkt[produkt],\n",
    "        2\n",
    "    )\n",
    "    for produkt in anzahl_pro_produkt\n",
    "}\n",
    "\n",
    "print(\"\\nDurchschnittspreis pro Produkt:\")\n",
    "for produkt, preis in durchschnittspreis.items():\n",
    "    print(f\"{produkt}: {preis} €\")\n"
   ]
  },
  {
   "cell_type": "code",
   "execution_count": 24,
   "metadata": {},
   "outputs": [],
   "source": [
    "\n",
    "# Zusammenfassung\n",
    "# --------------\n",
    "# Dieses Jupyter Notebook hat wichtige Datenstrukturen und Funktionskonzepte in Python vorgestellt:\n",
    "#\n",
    "# Datenstrukturen:\n",
    "# - Listen: Geordnete, veränderbare Sammlungen von Elementen\n",
    "# - Tupel: Geordnete, unveränderbare Sammlungen von Elementen\n",
    "# - Dictionaries: Schlüssel-Wert-Paare für schnellen Zugriff\n",
    "# - Sets: Ungeordnete Sammlungen einzigartiger Elemente\n",
    "#\n",
    "# Funktionen:\n",
    "# - Definition und Aufruf von Funktionen\n",
    "# - Parameter und Rückgabewerte\n",
    "# - Variable Argumente (*args, **kwargs)\n",
    "# - Lambda-Funktionen für kurze, anonyme Operationen\n",
    "# - Rekursive Funktionen\n",
    "# - Höhere Funktionen, Closures und Dekoratoren\n",
    "#\n",
    "# Die Kombination dieser Konzepte ermöglicht die Erstellung leistungsfähiger, \n",
    "# effizienter und wartbarer Python-Programme."
   ]
  },
  {
   "cell_type": "code",
   "execution_count": null,
   "metadata": {},
   "outputs": [],
   "source": []
  },
  {
   "cell_type": "code",
   "execution_count": null,
   "metadata": {},
   "outputs": [],
   "source": []
  },
  {
   "cell_type": "code",
   "execution_count": null,
   "metadata": {},
   "outputs": [],
   "source": []
  },
  {
   "cell_type": "code",
   "execution_count": null,
   "metadata": {},
   "outputs": [],
   "source": []
  },
  {
   "cell_type": "code",
   "execution_count": null,
   "metadata": {},
   "outputs": [],
   "source": []
  },
  {
   "cell_type": "code",
   "execution_count": null,
   "metadata": {},
   "outputs": [],
   "source": []
  },
  {
   "cell_type": "code",
   "execution_count": null,
   "metadata": {},
   "outputs": [],
   "source": []
  },
  {
   "cell_type": "code",
   "execution_count": null,
   "metadata": {},
   "outputs": [],
   "source": []
  },
  {
   "cell_type": "code",
   "execution_count": null,
   "metadata": {},
   "outputs": [],
   "source": []
  },
  {
   "cell_type": "code",
   "execution_count": null,
   "metadata": {},
   "outputs": [],
   "source": []
  },
  {
   "cell_type": "code",
   "execution_count": null,
   "metadata": {},
   "outputs": [],
   "source": []
  },
  {
   "cell_type": "code",
   "execution_count": null,
   "metadata": {},
   "outputs": [],
   "source": []
  },
  {
   "cell_type": "code",
   "execution_count": null,
   "metadata": {},
   "outputs": [],
   "source": []
  },
  {
   "cell_type": "code",
   "execution_count": null,
   "metadata": {},
   "outputs": [],
   "source": []
  },
  {
   "cell_type": "code",
   "execution_count": null,
   "metadata": {},
   "outputs": [],
   "source": []
  },
  {
   "cell_type": "code",
   "execution_count": null,
   "metadata": {},
   "outputs": [],
   "source": []
  },
  {
   "cell_type": "code",
   "execution_count": null,
   "metadata": {},
   "outputs": [],
   "source": []
  },
  {
   "cell_type": "code",
   "execution_count": null,
   "metadata": {},
   "outputs": [],
   "source": []
  },
  {
   "cell_type": "code",
   "execution_count": null,
   "metadata": {},
   "outputs": [],
   "source": []
  },
  {
   "cell_type": "code",
   "execution_count": null,
   "metadata": {},
   "outputs": [],
   "source": []
  }
 ],
 "metadata": {
  "kernelspec": {
   "display_name": "Python3 (jupyter_env)",
   "language": "python",
   "name": "jupyter_env"
  },
  "language_info": {
   "codemirror_mode": {
    "name": "ipython",
    "version": 3
   },
   "file_extension": ".py",
   "mimetype": "text/x-python",
   "name": "python",
   "nbconvert_exporter": "python",
   "pygments_lexer": "ipython3",
   "version": "3.13.1"
  }
 },
 "nbformat": 4,
 "nbformat_minor": 2
}
